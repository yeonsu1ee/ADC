{
 "cells": [
  {
   "cell_type": "code",
   "execution_count": 1,
   "id": "150881b2",
   "metadata": {
    "scrolled": true
   },
   "outputs": [
    {
     "name": "stderr",
     "output_type": "stream",
     "text": [
      "\n"
     ]
    }
   ],
   "source": [
    "import numpy as np\n",
    "import os\n",
    "import pandas as pd\n",
    "import random\n",
    "from collections import defaultdict\n",
    "import gym\n",
    "import gym_minigrid\n",
    "import matplotlib.pyplot as plt\n",
    "%matplotlib inline"
   ]
  },
  {
   "cell_type": "code",
   "execution_count": 6,
   "id": "020cbfb7",
   "metadata": {},
   "outputs": [],
   "source": [
    "#!pip install gym==0.22"
   ]
  },
  {
   "cell_type": "code",
   "execution_count": 8,
   "id": "f82e7b61",
   "metadata": {},
   "outputs": [],
   "source": [
    "#!pip install gym_minigrid==1.0.3"
   ]
  },
  {
   "cell_type": "code",
   "execution_count": 9,
   "id": "08e78fb1",
   "metadata": {},
   "outputs": [],
   "source": [
    "#!pip install utils==1.0.2"
   ]
  },
  {
   "cell_type": "code",
   "execution_count": 7,
   "id": "1eb6c3dd",
   "metadata": {},
   "outputs": [],
   "source": [
    "#!pip install imageio-ffmpeg==0.5.1"
   ]
  },
  {
   "cell_type": "code",
   "execution_count": 2,
   "id": "bb3475c0",
   "metadata": {
    "scrolled": true
   },
   "outputs": [],
   "source": [
    "class QLearning:\n",
    "    def __init__(self, actions, agent_indicator=10):\n",
    "        self.actions = actions\n",
    "        self.agent_indicator = agent_indicator\n",
    "        self.alpha = 0.01\n",
    "        self.gamma = 0.9\n",
    "        self.epsilon = 0.2\n",
    "        self.q_values = defaultdict(lambda: [0.0] * actions)\n",
    "        \n",
    "    def _convert_state(self, s):\n",
    "        return np.where(s == self.agent_indicator)[0][0]\n",
    "        \n",
    "    def update(self, state, action, reward, next_state, next_action):\n",
    "        state = self._convert_state(state)\n",
    "        next_state = self._convert_state(next_state)\n",
    "        \n",
    "        q_value = self.q_values[state][action]\n",
    "\n",
    "        ################## write code ################################\n",
    "        next_q_value = self.q_values[next_state][next_action]\n",
    "        \n",
    "        td_error = reward + self.gamma * np.max(next_q_value - q_value)\n",
    "        self.q_values[state][action] += self.alpha * td_error\n",
    "        ##############################################################\n",
    "    \n",
    "    def act(self, state):\n",
    "        if np.random.rand() < self.epsilon:\n",
    "            action = np.random.choice(self.actions)\n",
    "        else:\n",
    "            state = self._convert_state(state)\n",
    "            q_values = self.q_values[state]\n",
    "            action = np.argmax(q_values)\n",
    "        return action"
   ]
  },
  {
   "cell_type": "code",
   "execution_count": 3,
   "id": "90706d6e",
   "metadata": {
    "scrolled": true
   },
   "outputs": [],
   "source": [
    "from utils import gen_wrapped_env, show_video"
   ]
  },
  {
   "cell_type": "code",
   "execution_count": 4,
   "id": "d048dbff",
   "metadata": {
    "scrolled": true
   },
   "outputs": [],
   "source": [
    "env = gen_wrapped_env('MiniGrid-Empty-6x6-v0')\n",
    "\n",
    "obs = env.reset()\n",
    "\n",
    "agent_position = obs[0]\n",
    "\n",
    "agent = QLearning(3, agent_position)"
   ]
  },
  {
   "cell_type": "markdown",
   "id": "e79aa8d2-fca8-4b2e-8127-d4c0469c52d1",
   "metadata": {},
   "source": [
    "## For Q-Learning\n",
    "+ Q-learning update"
   ]
  },
  {
   "cell_type": "code",
   "execution_count": 5,
   "id": "f7e8c55c",
   "metadata": {
    "scrolled": true
   },
   "outputs": [
    {
     "name": "stdout",
     "output_type": "stream",
     "text": [
      "episode: 20, rewards: 0\n",
      "episode: 40, rewards: 0\n",
      "episode: 60, rewards: 0\n",
      "episode: 80, rewards: 0\n",
      "episode: 100, rewards: 0\n",
      "episode: 120, rewards: 0\n",
      "episode: 140, rewards: 0\n",
      "episode: 160, rewards: 0\n",
      "episode: 180, rewards: 0\n",
      "episode: 200, rewards: 0\n",
      "episode: 220, rewards: 0\n",
      "episode: 240, rewards: 0\n",
      "episode: 260, rewards: 0\n",
      "episode: 280, rewards: 0\n",
      "episode: 300, rewards: 0\n",
      "episode: 320, rewards: 0\n",
      "episode: 340, rewards: 0\n",
      "episode: 360, rewards: 0\n",
      "episode: 380, rewards: 0\n",
      "episode: 400, rewards: 0\n",
      "episode: 420, rewards: 0\n",
      "episode: 440, rewards: 0\n",
      "episode: 460, rewards: 0\n",
      "episode: 480, rewards: 0\n",
      "episode: 500, rewards: 0\n",
      "episode: 520, rewards: 0\n",
      "episode: 540, rewards: 0\n",
      "episode: 560, rewards: 0\n",
      "episode: 580, rewards: 0\n",
      "episode: 600, rewards: 0\n",
      "episode: 620, rewards: 0\n",
      "episode: 640, rewards: 0\n",
      "episode: 660, rewards: 0\n",
      "episode: 680, rewards: 0\n",
      "episode: 700, rewards: 0\n",
      "episode: 720, rewards: 0\n",
      "episode: 740, rewards: 0\n",
      "episode: 760, rewards: 0\n",
      "episode: 780, rewards: 0\n",
      "episode: 800, rewards: 0\n",
      "episode: 820, rewards: 0\n",
      "episode: 840, rewards: 0\n",
      "episode: 860, rewards: 0\n",
      "episode: 880, rewards: 0\n",
      "episode: 900, rewards: 0\n",
      "episode: 920, rewards: 0\n",
      "episode: 940, rewards: 0\n",
      "episode: 960, rewards: 0\n",
      "episode: 980, rewards: 0\n",
      "episode: 1000, rewards: 0\n",
      "episode: 1020, rewards: 0\n",
      "episode: 1040, rewards: 0\n",
      "episode: 1060, rewards: 0\n",
      "episode: 1080, rewards: 0\n",
      "episode: 1100, rewards: 0\n",
      "episode: 1120, rewards: 0\n",
      "episode: 1140, rewards: 0\n",
      "episode: 1160, rewards: 0\n",
      "episode: 1180, rewards: 0\n",
      "episode: 1200, rewards: 0.2799999999999999\n",
      "episode: 1220, rewards: 0.82\n",
      "episode: 1240, rewards: 0.874\n",
      "episode: 1260, rewards: 0.514\n",
      "episode: 1280, rewards: 0.6759999999999999\n",
      "episode: 1300, rewards: 0.514\n",
      "episode: 1320, rewards: 0.33399999999999996\n",
      "episode: 1340, rewards: 0.838\n",
      "episode: 1360, rewards: 0.6759999999999999\n",
      "episode: 1380, rewards: 0\n",
      "episode: 1400, rewards: 0.838\n",
      "episode: 1420, rewards: 0.856\n",
      "episode: 1440, rewards: 0.478\n",
      "episode: 1460, rewards: 0\n",
      "episode: 1480, rewards: 0\n",
      "episode: 1500, rewards: 0\n",
      "episode: 1520, rewards: 0\n",
      "episode: 1540, rewards: 0.748\n",
      "episode: 1560, rewards: 0.838\n",
      "episode: 1580, rewards: 0\n",
      "episode: 1600, rewards: 0.694\n",
      "episode: 1620, rewards: 0.712\n",
      "episode: 1640, rewards: 0.31599999999999995\n",
      "episode: 1660, rewards: 0.73\n",
      "episode: 1680, rewards: 0.73\n",
      "episode: 1700, rewards: 0\n",
      "episode: 1720, rewards: 0.73\n",
      "episode: 1740, rewards: 0.802\n",
      "episode: 1760, rewards: 0.586\n",
      "episode: 1780, rewards: 0\n",
      "episode: 1800, rewards: 0.514\n",
      "episode: 1820, rewards: 0.784\n",
      "episode: 1840, rewards: 0\n",
      "episode: 1860, rewards: 0\n",
      "episode: 1880, rewards: 0\n",
      "episode: 1900, rewards: 0\n",
      "episode: 1920, rewards: 0\n",
      "episode: 1940, rewards: 0\n",
      "episode: 1960, rewards: 0.856\n",
      "episode: 1980, rewards: 0\n",
      "episode: 2000, rewards: 0\n",
      "episode: 2020, rewards: 0\n",
      "episode: 2040, rewards: 0.802\n",
      "episode: 2060, rewards: 0.6399999999999999\n",
      "episode: 2080, rewards: 0.45999999999999996\n",
      "episode: 2100, rewards: 0\n",
      "episode: 2120, rewards: 0\n",
      "episode: 2140, rewards: 0.31599999999999995\n",
      "episode: 2160, rewards: 0.856\n",
      "episode: 2180, rewards: 0\n",
      "episode: 2200, rewards: 0.838\n",
      "episode: 2220, rewards: 0.514\n",
      "episode: 2240, rewards: 0\n",
      "episode: 2260, rewards: 0.856\n",
      "episode: 2280, rewards: 0\n",
      "episode: 2300, rewards: 0\n",
      "episode: 2320, rewards: 0\n",
      "episode: 2340, rewards: 0.694\n",
      "episode: 2360, rewards: 0\n",
      "episode: 2380, rewards: 0\n",
      "episode: 2400, rewards: 0\n",
      "episode: 2420, rewards: 0\n",
      "episode: 2440, rewards: 0.784\n",
      "episode: 2460, rewards: 0\n",
      "episode: 2480, rewards: 0.532\n",
      "episode: 2500, rewards: 0\n",
      "episode: 2520, rewards: 0.82\n",
      "episode: 2540, rewards: 0\n",
      "episode: 2560, rewards: 0\n",
      "episode: 2580, rewards: 0\n",
      "episode: 2600, rewards: 0.874\n",
      "episode: 2620, rewards: 0.44199999999999995\n",
      "episode: 2640, rewards: 0.712\n",
      "episode: 2660, rewards: 0\n",
      "episode: 2680, rewards: 0\n",
      "episode: 2700, rewards: 0.6759999999999999\n",
      "episode: 2720, rewards: 0.4059999999999999\n",
      "episode: 2740, rewards: 0\n",
      "episode: 2760, rewards: 0.856\n",
      "episode: 2780, rewards: 0.856\n",
      "episode: 2800, rewards: 0.20799999999999996\n",
      "episode: 2820, rewards: 0.55\n",
      "episode: 2840, rewards: 0\n",
      "episode: 2860, rewards: 0.856\n",
      "episode: 2880, rewards: 0.874\n",
      "episode: 2900, rewards: 0\n",
      "episode: 2920, rewards: 0\n",
      "episode: 2940, rewards: 0.478\n",
      "episode: 2960, rewards: 0\n",
      "episode: 2980, rewards: 0.802\n",
      "episode: 3000, rewards: 0.802\n",
      "episode: 3020, rewards: 0.622\n",
      "episode: 3040, rewards: 0.6579999999999999\n",
      "episode: 3060, rewards: 0.6399999999999999\n",
      "episode: 3080, rewards: 0\n",
      "episode: 3100, rewards: 0.20799999999999996\n",
      "episode: 3120, rewards: 0\n",
      "episode: 3140, rewards: 0.09999999999999998\n",
      "episode: 3160, rewards: 0\n",
      "episode: 3180, rewards: 0\n",
      "episode: 3200, rewards: 0.244\n",
      "episode: 3220, rewards: 0.55\n",
      "episode: 3240, rewards: 0\n",
      "episode: 3260, rewards: 0\n",
      "episode: 3280, rewards: 0.532\n",
      "episode: 3300, rewards: 0.22599999999999998\n",
      "episode: 3320, rewards: 0.712\n",
      "episode: 3340, rewards: 0.37\n",
      "episode: 3360, rewards: 0.82\n",
      "episode: 3380, rewards: 0.45999999999999996\n",
      "episode: 3400, rewards: 0.604\n",
      "episode: 3420, rewards: 0.42399999999999993\n",
      "episode: 3440, rewards: 0.622\n",
      "episode: 3460, rewards: 0.802\n",
      "episode: 3480, rewards: 0\n",
      "episode: 3500, rewards: 0.3879999999999999\n",
      "episode: 3520, rewards: 0.874\n",
      "episode: 3540, rewards: 0.856\n",
      "episode: 3560, rewards: 0\n",
      "episode: 3580, rewards: 0.44199999999999995\n",
      "episode: 3600, rewards: 0.82\n",
      "episode: 3620, rewards: 0.748\n",
      "episode: 3640, rewards: 0.802\n",
      "episode: 3660, rewards: 0.784\n",
      "episode: 3680, rewards: 0.802\n",
      "episode: 3700, rewards: 0.514\n",
      "episode: 3720, rewards: 0.82\n",
      "episode: 3740, rewards: 0\n",
      "episode: 3760, rewards: 0.6759999999999999\n",
      "episode: 3780, rewards: 0\n",
      "episode: 3800, rewards: 0\n",
      "episode: 3820, rewards: 0.712\n",
      "episode: 3840, rewards: 0\n",
      "episode: 3860, rewards: 0.694\n",
      "episode: 3880, rewards: 0\n",
      "episode: 3900, rewards: 0\n",
      "episode: 3920, rewards: 0.802\n",
      "episode: 3940, rewards: 0\n",
      "episode: 3960, rewards: 0\n",
      "episode: 3980, rewards: 0.73\n",
      "episode: 4000, rewards: 0\n",
      "episode: 4020, rewards: 0.838\n",
      "episode: 4040, rewards: 0.44199999999999995\n",
      "episode: 4060, rewards: 0.802\n",
      "episode: 4080, rewards: 0.874\n",
      "episode: 4100, rewards: 0\n",
      "episode: 4120, rewards: 0.712\n",
      "episode: 4140, rewards: 0\n",
      "episode: 4160, rewards: 0\n",
      "episode: 4180, rewards: 0\n",
      "episode: 4200, rewards: 0\n",
      "episode: 4220, rewards: 0\n",
      "episode: 4240, rewards: 0.586\n",
      "episode: 4260, rewards: 0.586\n",
      "episode: 4280, rewards: 0.73\n",
      "episode: 4300, rewards: 0\n",
      "episode: 4320, rewards: 0.784\n",
      "episode: 4340, rewards: 0.42399999999999993\n",
      "episode: 4360, rewards: 0.856\n",
      "episode: 4380, rewards: 0.20799999999999996\n",
      "episode: 4400, rewards: 0.784\n",
      "episode: 4420, rewards: 0\n",
      "episode: 4440, rewards: 0\n",
      "episode: 4460, rewards: 0.802\n",
      "episode: 4480, rewards: 0\n",
      "episode: 4500, rewards: 0\n",
      "episode: 4520, rewards: 0.4059999999999999\n",
      "episode: 4540, rewards: 0\n",
      "episode: 4560, rewards: 0.802\n",
      "episode: 4580, rewards: 0.118\n",
      "episode: 4600, rewards: 0\n",
      "episode: 4620, rewards: 0\n",
      "episode: 4640, rewards: 0\n",
      "episode: 4660, rewards: 0\n",
      "episode: 4680, rewards: 0\n",
      "episode: 4700, rewards: 0\n",
      "episode: 4720, rewards: 0\n",
      "episode: 4740, rewards: 0.37\n",
      "episode: 4760, rewards: 0.82\n",
      "episode: 4780, rewards: 0\n",
      "episode: 4800, rewards: 0.22599999999999998\n",
      "episode: 4820, rewards: 0\n",
      "episode: 4840, rewards: 0\n",
      "episode: 4860, rewards: 0\n",
      "episode: 4880, rewards: 0.478\n",
      "episode: 4900, rewards: 0.73\n",
      "episode: 4920, rewards: 0.3879999999999999\n",
      "episode: 4940, rewards: 0.838\n",
      "episode: 4960, rewards: 0.604\n",
      "episode: 4980, rewards: 0\n",
      "episode: 5000, rewards: 0.45999999999999996\n"
     ]
    }
   ],
   "source": [
    "rewards = []\n",
    "for ep in range(5000):\n",
    "    done = False\n",
    "    obs = env.reset()\n",
    "    action = agent.act(obs)\n",
    "    \n",
    "    ep_rewards = 0\n",
    "    while not done:\n",
    "        next_obs, reward, done, info = env.step(action)\n",
    "\n",
    "        next_action = agent.act(next_obs)\n",
    "\n",
    "        agent.update(obs, action, reward, next_obs, next_action)\n",
    "        \n",
    "        ep_rewards += reward\n",
    "        obs = next_obs\n",
    "        action = next_action\n",
    "    rewards.append(ep_rewards)\n",
    "    if (ep+1) % 20 == 0:\n",
    "        print(\"episode: {}, rewards: {}\".format(ep+1, ep_rewards))\n",
    "env.close()"
   ]
  },
  {
   "cell_type": "code",
   "execution_count": 7,
   "id": "a086e2cd",
   "metadata": {},
   "outputs": [
    {
     "data": {
      "text/plain": [
       "{0: [0.27118, 0.27265, 0.29303],\n",
       " 3: [0.04941, 0.05841, 0.12391],\n",
       " 15: [0.01379, 0.01874, 0.14662],\n",
       " 27: [0.04935, 0.04711, 0.28159],\n",
       " 12: [0.28576, 0.27949, 0.36056],\n",
       " 6: [0.03862, 0.03585, 0.09635],\n",
       " 18: [0.01983, 0.01625, 0.16027],\n",
       " 24: [0.35293, 0.35523, 0.42916],\n",
       " 39: [0.45627, 0.45961, 0.55303],\n",
       " 42: [0.53063, 0.50293, 0.61781],\n",
       " 30: [0.05483, 0.05325, 0.32912],\n",
       " 36: [0.47748, 0.4785, 0.48568],\n",
       " 9: [0.09778, 0.0978, 0.12065],\n",
       " 21: [0.13694, 0.14623, 0.2591],\n",
       " 33: [0.28497, 0.2749, 0.42159],\n",
       " 45: [0.0, 0.0, 0.0]}"
      ]
     },
     "execution_count": 7,
     "metadata": {},
     "output_type": "execute_result"
    }
   ],
   "source": [
    "{s:np.round(q, 5).tolist() for s, q in agent.q_values.items()}"
   ]
  },
  {
   "cell_type": "code",
   "execution_count": 8,
   "id": "77e3015b",
   "metadata": {},
   "outputs": [
    {
     "data": {
      "text/html": [
       "<video alt=\"test\" autoplay \n",
       "                loop controls style=\"height: 400px;\">\n",
       "                <source src=\"data:video/mp4;base64,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\" type=\"video/mp4\" />\n",
       "             </video>"
      ],
      "text/plain": [
       "<IPython.core.display.HTML object>"
      ]
     },
     "metadata": {},
     "output_type": "display_data"
    }
   ],
   "source": [
    "show_video()"
   ]
  },
  {
   "cell_type": "code",
   "execution_count": 9,
   "id": "42787cff",
   "metadata": {},
   "outputs": [],
   "source": [
    "os.makedirs('./logs', exist_ok=True)\n",
    "pd.Series(rewards).to_csv('./logs/rewards_qlearning.csv')"
   ]
  },
  {
   "cell_type": "code",
   "execution_count": 10,
   "id": "da141489",
   "metadata": {},
   "outputs": [],
   "source": [
    "sarsa_logs = pd.read_csv('./logs/rewards_sarsa.csv', index_col=False).iloc[:, 1]\n",
    "q_logs = pd.read_csv('./logs/rewards_qlearning.csv', index_col=False).iloc[:, 1]"
   ]
  },
  {
   "cell_type": "code",
   "execution_count": 11,
   "id": "43dc92ab",
   "metadata": {},
   "outputs": [
    {
     "data": {
      "text/plain": [
       "<matplotlib.legend.Legend at 0x1ffe3af58b0>"
      ]
     },
     "execution_count": 11,
     "metadata": {},
     "output_type": "execute_result"
    },
    {
     "data": {
      "image/png": "[encoded data removed]",
      "text/plain": [
       "<Figure size 1600x800 with 1 Axes>"
      ]
     },
     "metadata": {},
     "output_type": "display_data"
    }
   ],
   "source": [
    "plt.figure(figsize=(16, 8))\n",
    "plt.plot(q_logs.cumsum() / (pd.Series(np.arange(q_logs.shape[0]))+1), label=\"QLearning\")\n",
    "plt.plot(sarsa_logs.cumsum() / (pd.Series(np.arange(sarsa_logs.shape[0]))+1), label=\"SARSA\")\n",
    "plt.legend()"
   ]
  },
  {
   "cell_type": "code",
   "execution_count": null,
   "id": "69d2dad1",
   "metadata": {},
   "outputs": [],
   "source": []
  },
  {
   "cell_type": "code",
   "execution_count": null,
   "id": "a1ab15f2",
   "metadata": {},
   "outputs": [],
   "source": []
  }
 ],
 "metadata": {
  "kernelspec": {
   "display_name": "dl",
   "language": "python",
   "name": "python3"
  },
  "language_info": {
   "codemirror_mode": {
    "name": "ipython",
    "version": 3
   },
   "file_extension": ".py",
   "mimetype": "text/x-python",
   "name": "python",
   "nbconvert_exporter": "python",
   "pygments_lexer": "ipython3",
   "version": "3.12.4"
  }
 },
 "nbformat": 4,
 "nbformat_minor": 5
}
